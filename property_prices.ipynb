{
  "nbformat": 4,
  "nbformat_minor": 0,
  "metadata": {
    "colab": {
      "name": "property_prices.ipynb",
      "provenance": [],
      "collapsed_sections": [],
      "authorship_tag": "ABX9TyN1VLdPh1hBwzaYPq9lKo9M",
      "include_colab_link": true
    },
    "kernelspec": {
      "name": "python3",
      "display_name": "Python 3"
    },
    "accelerator": "GPU"
  },
  "cells": [
    {
      "cell_type": "markdown",
      "metadata": {
        "id": "view-in-github",
        "colab_type": "text"
      },
      "source": [
        "<a href=\"https://colab.research.google.com/github/marionboynton1/Cape-Town-House-Price-Prediction-Model-/blob/master/property_prices.ipynb\" target=\"_parent\"><img src=\"https://colab.research.google.com/assets/colab-badge.svg\" alt=\"Open In Colab\"/></a>"
      ]
    },
    {
      "cell_type": "markdown",
      "metadata": {
        "id": "Hwzt1V7A7-FO",
        "colab_type": "text"
      },
      "source": [
        "**Property Price Prediction**"
      ]
    },
    {
      "cell_type": "code",
      "metadata": {
        "id": "3A26svFMJy_Y",
        "colab_type": "code",
        "colab": {
          "resources": {
            "http://localhost:8080/nbextensions/google.colab/files.js": {
              "data": "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",
              "ok": true,
              "headers": [
                [
                  "content-type",
                  "application/javascript"
                ]
              ],
              "status": 200,
              "status_text": ""
            }
          },
          "base_uri": "https://localhost:8080/",
          "height": 684
        },
        "outputId": "4eee2432-97f4-4ae1-aa74-af989bc1b55b"
      },
      "source": [
        "#upload data \n",
        "import pandas as pd\n",
        "import io\n",
        "\n",
        "from google.colab import files \n",
        "uploaded = files.upload()"
      ],
      "execution_count": 4,
      "outputs": [
        {
          "output_type": "display_data",
          "data": {
            "text/html": [
              "\n",
              "     <input type=\"file\" id=\"files-53ec14bb-cfed-48d4-9388-374b372e48dc\" name=\"files[]\" multiple disabled\n",
              "        style=\"border:none\" />\n",
              "     <output id=\"result-53ec14bb-cfed-48d4-9388-374b372e48dc\">\n",
              "      Upload widget is only available when the cell has been executed in the\n",
              "      current browser session. Please rerun this cell to enable.\n",
              "      </output>\n",
              "      <script src=\"/nbextensions/google.colab/files.js\"></script> "
            ],
            "text/plain": [
              "<IPython.core.display.HTML object>"
            ]
          },
          "metadata": {
            "tags": []
          }
        },
        {
          "output_type": "stream",
          "text": [
            "Saving pp_goodwood.csv to pp_goodwood.csv\n",
            "Saving p24_houses.csv to p24_houses.csv\n",
            "Saving pp_atlantic.csv to pp_atlantic.csv\n",
            "Saving pp_bellville.csv to pp_bellville.csv\n",
            "Saving pp_brackenfell.csv to pp_brackenfell.csv\n",
            "Saving pp_buh-rein.csv to pp_buh-rein.csv\n",
            "Saving pp_capeflats.csv to pp_capeflats.csv\n",
            "Saving pp_citybowl.csv to pp_citybowl.csv\n",
            "Saving pp_durbanville.csv to pp_durbanville.csv\n",
            "Saving pp_falsebay.csv to pp_falsebay.csv\n",
            "Saving pp_houtbay.csv to pp_houtbay.csv\n",
            "Saving pp_kraaifontein.csv to pp_kraaifontein.csv\n",
            "Saving pp_kuilsriver.csv to pp_kuilsriver.csv\n",
            "Saving pp_matroosfontein.csv to pp_matroosfontein.csv\n",
            "Saving pp_melkbosstrand.csv to pp_melkbosstrand.csv\n",
            "Saving pp_milnerton.csv to pp_milnerton.csv\n",
            "Saving pp_parow.csv to pp_parow.csv\n",
            "Saving pp_southernsuburbs.csv to pp_southernsuburbs.csv\n",
            "Saving pp_tableblou.csv to pp_tableblou.csv\n"
          ],
          "name": "stdout"
        }
      ]
    },
    {
      "cell_type": "code",
      "metadata": {
        "id": "qNyz_cJsLltk",
        "colab_type": "code",
        "colab": {}
      },
      "source": [
        "p24_ = pd.read_csv(io.StringIO(uploaded['p24_houses.csv'].decode('utf-8')))\n",
        "p24_d = pd.DataFrame(p24_)\n",
        "\n",
        "pp_atlantic_seaboard = pd.read_csv(io.StringIO(uploaded['pp_atlantic.csv'].decode('utf-8')))\n",
        "pp_bellville = pd.read_csv(io.StringIO(uploaded['pp_bellville.csv'].decode('utf-8')))\n",
        "pp_brackenfell = pd.read_csv(io.StringIO(uploaded['pp_brackenfell.csv'].decode('utf-8')))\n",
        "pp_buhrein = pd.read_csv(io.StringIO(uploaded['pp_buh-rein.csv'].decode('utf-8')))\n",
        "pp_capeflats = pd.read_csv(io.StringIO(uploaded['pp_capeflats.csv'].decode('utf-8')))\n",
        "pp_citybowl = pd.read_csv(io.StringIO(uploaded['pp_citybowl.csv'].decode('utf-8')))\n",
        "pp_durbanville = pd.read_csv(io.StringIO(uploaded['pp_durbanville.csv'].decode('utf-8')))\n",
        "pp_goodwood = pd.read_csv(io.StringIO(uploaded['pp_goodwood.csv'].decode('utf-8')))\n",
        "pp_houtbay = pd.read_csv(io.StringIO(uploaded['pp_houtbay.csv'].decode('utf-8')))\n",
        "pp_kraaifontein = pd.read_csv(io.StringIO(uploaded['pp_kraaifontein.csv'].decode('utf-8')))\n",
        "pp_kuilsriver = pd.read_csv(io.StringIO(uploaded['pp_kuilsriver.csv'].decode('utf-8')))\n",
        "pp_matroosfontein = pd.read_csv(io.StringIO(uploaded['pp_matroosfontein.csv'].decode('utf-8')))\n",
        "pp_melkbosstrand = pd.read_csv(io.StringIO(uploaded['pp_melkbosstrand.csv'].decode('utf-8')))\n",
        "pp_milnerton = pd.read_csv(io.StringIO(uploaded['pp_milnerton.csv'].decode('utf-8')))\n",
        "pp_parow = pd.read_csv(io.StringIO(uploaded['pp_parow.csv'].decode('utf-8')))\n",
        "pp_falsebay = pd.read_csv(io.StringIO(uploaded['pp_falsebay.csv'].decode('utf-8')))\n",
        "pp_southernsuburbs = pd.read_csv(io.StringIO(uploaded['pp_southernsuburbs.csv'].decode('utf-8')))\n",
        "pp_tableblou = pd.read_csv(io.StringIO(uploaded['pp_tableblou.csv'].decode('utf-8')))\n",
        "\n",
        "atlantic = pd.DataFrame(pp_atlantic_seaboard)\n",
        "bellville = pd.DataFrame(pp_bellville)\n",
        "brackenfell = pd.DataFrame(pp_brackenfell)\n",
        "buhrein = pd.DataFrame(pp_buhrein)\n",
        "capeflats = pd.DataFrame(pp_capeflats)\n",
        "citybowl = pd.DataFrame(pp_citybowl)\n",
        "durbanville = pd.DataFrame(pp_durbanville)\n",
        "goodwood = pd.DataFrame(pp_goodwood)\n",
        "houtbay = pd.DataFrame(pp_houtbay)\n",
        "kraaifontein = pd.DataFrame(pp_kraaifontein)\n",
        "kuilsriver = pd.DataFrame(pp_kuilsriver)\n",
        "matroosfontein = pd.DataFrame(pp_matroosfontein)\n",
        "melkbosstrand = pd.DataFrame(pp_melkbosstrand)\n",
        "milnerton = pd.DataFrame(pp_milnerton)\n",
        "parow = pd.DataFrame(pp_parow)\n",
        "falsebay = pd.DataFrame(pp_falsebay)\n",
        "southernsuburbs = pd.DataFrame(pp_southernsuburbs)\n",
        "tableblou = pd.DataFrame(pp_tableblou)\n",
        "\n",
        "pp_dataframe = pd.concat([atlantic, bellville,\n",
        "brackenfell ,\n",
        "buhrein ,\n",
        "capeflats,\n",
        "citybowl ,\n",
        "durbanville,\n",
        "goodwood,\n",
        "houtbay,\n",
        "kraaifontein,\n",
        "kuilsriver,\n",
        "matroosfontein,\n",
        "melkbosstrand,\n",
        "milnerton,\n",
        "parow,\n",
        "falsebay,\n",
        "southernsuburbs,\n",
        "tableblou], axis=0)"
      ],
      "execution_count": 8,
      "outputs": []
    },
    {
      "cell_type": "code",
      "metadata": {
        "id": "cu_zMtDzJwIc",
        "colab_type": "code",
        "colab": {}
      },
      "source": [
        ""
      ],
      "execution_count": 8,
      "outputs": []
    },
    {
      "cell_type": "code",
      "metadata": {
        "id": "9vVY-KBfBfHr",
        "colab_type": "code",
        "colab": {
          "base_uri": "https://localhost:8080/",
          "height": 34
        },
        "outputId": "40ca65ae-8810-4239-c834-b4ba5163251c"
      },
      "source": [
        "#Data Cleaning \n",
        "\n",
        "#copy dataframes\n",
        "pp_df = pp_dataframe.copy()\n",
        "p24_data = p24_d.copy()\n",
        "\n",
        "#Prices to floats\n",
        "import re\n",
        "price_pat = r\"[^\\d-]\"\n",
        "pp_df.price = pp_df.price.str.replace(price_pat, '', regex=True)\n",
        "p24_data.price = p24_data.price.str.replace(price_pat, '', regex=True)\n",
        "\n",
        "#p24_data[['price', 'bedrooms', 'bathrooms', 'garages','size']] = p24_data[['price', 'bedrooms', 'bathrooms', 'garages','size']].replace(pat, \"\", regex=True)\n",
        "pp_df.price = pd.to_numeric(pp_df.price, errors='coerce')\n",
        "p24_data.price = pd.to_numeric(p24_data.price, errors='coerce')\n",
        "print(p24_data.price.dtype)"
      ],
      "execution_count": 9,
      "outputs": [
        {
          "output_type": "stream",
          "text": [
            "float64\n"
          ],
          "name": "stdout"
        }
      ]
    },
    {
      "cell_type": "code",
      "metadata": {
        "id": "Wnfupz3RNjMw",
        "colab_type": "code",
        "colab": {}
      },
      "source": [
        "#remove null price entries\n",
        "pp_df = pp_df[pp_df.price.notna()].reset_index(drop=True)\n",
        "p24_data = p24_data[p24_data.price.notna()].reset_index(drop=True)"
      ],
      "execution_count": 10,
      "outputs": []
    },
    {
      "cell_type": "code",
      "metadata": {
        "id": "kzBWANcUNktM",
        "colab_type": "code",
        "colab": {
          "base_uri": "https://localhost:8080/",
          "height": 54
        },
        "outputId": "b1a5739a-22a2-4f6a-f7fe-0fcc5712a220"
      },
      "source": [
        "#Adjust location, suburb, area features to be the same for both dataframes\n",
        "\n",
        "locations24 = list(p24_data.location.unique())\n",
        "locs24 = [x for x in locations24 if str(x) != 'nan']\n",
        "print(sorted(locs24))"
      ],
      "execution_count": 11,
      "outputs": [
        {
          "output_type": "stream",
          "text": [
            "['Bo Kaap', 'Cape Town City Centre', 'De Waterkant', 'Devils Peak Estate', 'Foreshore', 'Gardens', 'Higgovale', 'Mouille Point', 'Oranjezicht', 'Tamboerskloof', 'University Estate', 'Vredehoek', 'Walmer Estate', 'Waterfront', 'Woodstock', 'Zonnebloem']\n"
          ],
          "name": "stdout"
        }
      ]
    },
    {
      "cell_type": "code",
      "metadata": {
        "id": "HkNckWmANnJN",
        "colab_type": "code",
        "colab": {
          "base_uri": "https://localhost:8080/",
          "height": 479
        },
        "outputId": "81d14048-bd72-4338-b9fa-75ac096ec303"
      },
      "source": [
        "#location for property24 dataframe is the suburb\n",
        "#rename location column to suburb\n",
        "p24_data = p24_data.rename(columns = {'location': 'suburb'})\n",
        "\n",
        "#add column to dataframe of broader area as included in private property dataframe\n",
        "dict_area = {\n",
        "    'Bo Kaap': 'City Bowl', \n",
        "    'Cape Town City Centre': 'City Bowl', \n",
        "    'De Waterkant': 'City Bowl', \n",
        "    'Devils Peak Estate': 'City Bowl', \n",
        "    'Foreshore': 'Atlantic Seaboard', \n",
        "    'Gardens': 'City Bowl', \n",
        "    'Higgovale': 'City Bowl', \n",
        "    'Mouille Point': 'Atlantic Seaboard', \n",
        "    'Oranjezicht': 'City Bowl', \n",
        "    'Tamboerskloof': 'City Bowl', \n",
        "    'University Estate': 'City Bowl', \n",
        "    'Vredehoek': 'City Bowl', \n",
        "    'Walmer Estate': 'City Bowl', \n",
        "    'Waterfront': 'Atlantic Seaboard', \n",
        "    'Woodstock': 'City Bowl', \n",
        "    'Zonnebloem': 'City Bowl'\n",
        "}\n",
        "p24_data['area'] = p24_data['suburb'].map(dict_area)\n",
        "\n",
        "p24_data.head()"
      ],
      "execution_count": 12,
      "outputs": [
        {
          "output_type": "execute_result",
          "data": {
            "text/html": [
              "<div>\n",
              "<style scoped>\n",
              "    .dataframe tbody tr th:only-of-type {\n",
              "        vertical-align: middle;\n",
              "    }\n",
              "\n",
              "    .dataframe tbody tr th {\n",
              "        vertical-align: top;\n",
              "    }\n",
              "\n",
              "    .dataframe thead th {\n",
              "        text-align: right;\n",
              "    }\n",
              "</style>\n",
              "<table border=\"1\" class=\"dataframe\">\n",
              "  <thead>\n",
              "    <tr style=\"text-align: right;\">\n",
              "      <th></th>\n",
              "      <th>page</th>\n",
              "      <th>price</th>\n",
              "      <th>suburb</th>\n",
              "      <th>address</th>\n",
              "      <th>desc</th>\n",
              "      <th>bedrooms</th>\n",
              "      <th>bathrooms</th>\n",
              "      <th>garages</th>\n",
              "      <th>size</th>\n",
              "      <th>area</th>\n",
              "    </tr>\n",
              "  </thead>\n",
              "  <tbody>\n",
              "    <tr>\n",
              "      <th>0</th>\n",
              "      <td>1</td>\n",
              "      <td>1995000.0</td>\n",
              "      <td>Cape Town City Centre</td>\n",
              "      <td>252 Roggebaai Square</td>\n",
              "      <td>1 Bedroom Apartment in Cape Town City Centre</td>\n",
              "      <td>1.0</td>\n",
              "      <td>1.0</td>\n",
              "      <td>1.0</td>\n",
              "      <td>\\n\\n35 m²\\n</td>\n",
              "      <td>City Bowl</td>\n",
              "    </tr>\n",
              "    <tr>\n",
              "      <th>1</th>\n",
              "      <td>1</td>\n",
              "      <td>14995000.0</td>\n",
              "      <td>Waterfront</td>\n",
              "      <td>NaN</td>\n",
              "      <td>2 Bedroom Apartment in Waterfront</td>\n",
              "      <td>2.0</td>\n",
              "      <td>2.0</td>\n",
              "      <td>2.0</td>\n",
              "      <td>\\n\\n131 m²\\n</td>\n",
              "      <td>Atlantic Seaboard</td>\n",
              "    </tr>\n",
              "    <tr>\n",
              "      <th>2</th>\n",
              "      <td>1</td>\n",
              "      <td>3995000.0</td>\n",
              "      <td>Vredehoek</td>\n",
              "      <td>NaN</td>\n",
              "      <td>2 Bedroom Apartment in Vredehoek</td>\n",
              "      <td>2.0</td>\n",
              "      <td>2.0</td>\n",
              "      <td>2.0</td>\n",
              "      <td>\\n\\n114 m²\\n</td>\n",
              "      <td>City Bowl</td>\n",
              "    </tr>\n",
              "    <tr>\n",
              "      <th>3</th>\n",
              "      <td>1</td>\n",
              "      <td>2750000.0</td>\n",
              "      <td>Oranjezicht</td>\n",
              "      <td>NaN</td>\n",
              "      <td>2 Bedroom Apartment in Oranjezicht</td>\n",
              "      <td>2.0</td>\n",
              "      <td>1.0</td>\n",
              "      <td>2.0</td>\n",
              "      <td>\\n\\n83 m²\\n</td>\n",
              "      <td>City Bowl</td>\n",
              "    </tr>\n",
              "    <tr>\n",
              "      <th>4</th>\n",
              "      <td>1</td>\n",
              "      <td>8000000.0</td>\n",
              "      <td>Oranjezicht</td>\n",
              "      <td>42 Breda Street</td>\n",
              "      <td>3 Bedroom House in Oranjezicht</td>\n",
              "      <td>3.0</td>\n",
              "      <td>3.0</td>\n",
              "      <td>1.0</td>\n",
              "      <td>\\n\\n464 m²\\n</td>\n",
              "      <td>City Bowl</td>\n",
              "    </tr>\n",
              "  </tbody>\n",
              "</table>\n",
              "</div>"
            ],
            "text/plain": [
              "   page       price  ...          size               area\n",
              "0     1   1995000.0  ...   \\n\\n35 m²\\n          City Bowl\n",
              "1     1  14995000.0  ...  \\n\\n131 m²\\n  Atlantic Seaboard\n",
              "2     1   3995000.0  ...  \\n\\n114 m²\\n          City Bowl\n",
              "3     1   2750000.0  ...   \\n\\n83 m²\\n          City Bowl\n",
              "4     1   8000000.0  ...  \\n\\n464 m²\\n          City Bowl\n",
              "\n",
              "[5 rows x 10 columns]"
            ]
          },
          "metadata": {
            "tags": []
          },
          "execution_count": 12
        }
      ]
    },
    {
      "cell_type": "code",
      "metadata": {
        "id": "GtIm19NiNpX_",
        "colab_type": "code",
        "colab": {
          "base_uri": "https://localhost:8080/",
          "height": 462
        },
        "outputId": "14ad018a-d2cc-49fc-d341-b3626a4dca10"
      },
      "source": [
        "#location for private property dataframe is greater area\n",
        "pp_df.location = pp_df.location.str.title() #capitalize entries\n",
        "pp_df = pp_df.rename(columns = {'location': 'area'}) #rename to area\n",
        "pp_df.head()"
      ],
      "execution_count": 13,
      "outputs": [
        {
          "output_type": "execute_result",
          "data": {
            "text/html": [
              "<div>\n",
              "<style scoped>\n",
              "    .dataframe tbody tr th:only-of-type {\n",
              "        vertical-align: middle;\n",
              "    }\n",
              "\n",
              "    .dataframe tbody tr th {\n",
              "        vertical-align: top;\n",
              "    }\n",
              "\n",
              "    .dataframe thead th {\n",
              "        text-align: right;\n",
              "    }\n",
              "</style>\n",
              "<table border=\"1\" class=\"dataframe\">\n",
              "  <thead>\n",
              "    <tr style=\"text-align: right;\">\n",
              "      <th></th>\n",
              "      <th>page</th>\n",
              "      <th>price</th>\n",
              "      <th>area</th>\n",
              "      <th>address</th>\n",
              "      <th>suburb</th>\n",
              "      <th>desc</th>\n",
              "      <th>type</th>\n",
              "      <th>bedrooms</th>\n",
              "      <th>bathrooms</th>\n",
              "      <th>garages</th>\n",
              "    </tr>\n",
              "  </thead>\n",
              "  <tbody>\n",
              "    <tr>\n",
              "      <th>0</th>\n",
              "      <td>1</td>\n",
              "      <td>3750000.0</td>\n",
              "      <td>Atlantic Seaboard</td>\n",
              "      <td>NaN</td>\n",
              "      <td>Green Point</td>\n",
              "      <td>NaN</td>\n",
              "      <td>Apartment</td>\n",
              "      <td>2.0</td>\n",
              "      <td>2.0</td>\n",
              "      <td>NaN</td>\n",
              "    </tr>\n",
              "    <tr>\n",
              "      <th>1</th>\n",
              "      <td>1</td>\n",
              "      <td>7495000.0</td>\n",
              "      <td>Atlantic Seaboard</td>\n",
              "      <td>NaN</td>\n",
              "      <td>Green Point</td>\n",
              "      <td>NaN</td>\n",
              "      <td>Townhouse</td>\n",
              "      <td>3.0</td>\n",
              "      <td>2.5</td>\n",
              "      <td>2.0</td>\n",
              "    </tr>\n",
              "    <tr>\n",
              "      <th>2</th>\n",
              "      <td>1</td>\n",
              "      <td>3595000.0</td>\n",
              "      <td>Atlantic Seaboard</td>\n",
              "      <td>104 The Warwick 23 Main Road</td>\n",
              "      <td>Green Point</td>\n",
              "      <td>Pool, Access Gate and BIC.</td>\n",
              "      <td>Apartment</td>\n",
              "      <td>1.0</td>\n",
              "      <td>1.0</td>\n",
              "      <td>NaN</td>\n",
              "    </tr>\n",
              "    <tr>\n",
              "      <th>3</th>\n",
              "      <td>1</td>\n",
              "      <td>3995000.0</td>\n",
              "      <td>Atlantic Seaboard</td>\n",
              "      <td>B4 Alma Court 39 High Level Road</td>\n",
              "      <td>Green Point</td>\n",
              "      <td>NaN</td>\n",
              "      <td>Apartment</td>\n",
              "      <td>2.0</td>\n",
              "      <td>2.0</td>\n",
              "      <td>1.0</td>\n",
              "    </tr>\n",
              "    <tr>\n",
              "      <th>4</th>\n",
              "      <td>1</td>\n",
              "      <td>13500000.0</td>\n",
              "      <td>Atlantic Seaboard</td>\n",
              "      <td>7 Avenue Francaise</td>\n",
              "      <td>Fresnaye</td>\n",
              "      <td>Alarm, Pool and Elec. Fencing.</td>\n",
              "      <td>House</td>\n",
              "      <td>5.0</td>\n",
              "      <td>5.0</td>\n",
              "      <td>2.0</td>\n",
              "    </tr>\n",
              "  </tbody>\n",
              "</table>\n",
              "</div>"
            ],
            "text/plain": [
              "   page       price               area  ... bedrooms bathrooms garages\n",
              "0     1   3750000.0  Atlantic Seaboard  ...      2.0       2.0     NaN\n",
              "1     1   7495000.0  Atlantic Seaboard  ...      3.0       2.5     2.0\n",
              "2     1   3595000.0  Atlantic Seaboard  ...      1.0       1.0     NaN\n",
              "3     1   3995000.0  Atlantic Seaboard  ...      2.0       2.0     1.0\n",
              "4     1  13500000.0  Atlantic Seaboard  ...      5.0       5.0     2.0\n",
              "\n",
              "[5 rows x 10 columns]"
            ]
          },
          "metadata": {
            "tags": []
          },
          "execution_count": 13
        }
      ]
    },
    {
      "cell_type": "code",
      "metadata": {
        "id": "JROnh8leNsCr",
        "colab_type": "code",
        "colab": {
          "base_uri": "https://localhost:8080/",
          "height": 479
        },
        "outputId": "c10d0569-6244-48bc-b4e4-23317f657d30"
      },
      "source": [
        "# create property 24 data type column\n",
        "\n",
        "#print(pp_df.type.unique())  \n",
        "\n",
        "#function to get type of property from description (desc) \n",
        "def type_func(desc):\n",
        "    words = desc.split()\n",
        "    if 'Apartment' in words:\n",
        "        return 'Apartment'\n",
        "    elif 'House' in words:\n",
        "        return 'House'\n",
        "    elif 'Townhouse' in words:\n",
        "        return 'Townhouse'\n",
        "    elif 'Penthouse' in words:\n",
        "        return 'Townhouse'\n",
        "    elif 'Flat' in words:\n",
        "        return 'Flat'\n",
        "    elif 'Duplex' in words:\n",
        "        return 'Duplex'\n",
        "    elif 'Bachelor' in words:\n",
        "        return 'Bachelor'\n",
        "    elif 'Cluster' in words:\n",
        "        return 'Cluster'\n",
        "    elif 'Studio' in words:\n",
        "        return 'Studio'\n",
        "    elif 'Simplex' in words:\n",
        "        return 'Simplex'\n",
        "    elif 'Duet' in words:\n",
        "        return 'Duet'\n",
        "    elif 'Loft' in words:\n",
        "        return 'Loft'\n",
        "    else:\n",
        "        return None\n",
        " \n",
        "p24_data.desc = p24_data.desc.str.title() #capitalize\n",
        "p24_data.desc = p24_data.desc.astype(str)\n",
        "p24_data['type'] = p24_data['desc'].apply(type_func)  #unique types: apartment, house, none, townhouse\n",
        "p24_data.head()"
      ],
      "execution_count": 14,
      "outputs": [
        {
          "output_type": "execute_result",
          "data": {
            "text/html": [
              "<div>\n",
              "<style scoped>\n",
              "    .dataframe tbody tr th:only-of-type {\n",
              "        vertical-align: middle;\n",
              "    }\n",
              "\n",
              "    .dataframe tbody tr th {\n",
              "        vertical-align: top;\n",
              "    }\n",
              "\n",
              "    .dataframe thead th {\n",
              "        text-align: right;\n",
              "    }\n",
              "</style>\n",
              "<table border=\"1\" class=\"dataframe\">\n",
              "  <thead>\n",
              "    <tr style=\"text-align: right;\">\n",
              "      <th></th>\n",
              "      <th>page</th>\n",
              "      <th>price</th>\n",
              "      <th>suburb</th>\n",
              "      <th>address</th>\n",
              "      <th>desc</th>\n",
              "      <th>bedrooms</th>\n",
              "      <th>bathrooms</th>\n",
              "      <th>garages</th>\n",
              "      <th>size</th>\n",
              "      <th>area</th>\n",
              "      <th>type</th>\n",
              "    </tr>\n",
              "  </thead>\n",
              "  <tbody>\n",
              "    <tr>\n",
              "      <th>0</th>\n",
              "      <td>1</td>\n",
              "      <td>1995000.0</td>\n",
              "      <td>Cape Town City Centre</td>\n",
              "      <td>252 Roggebaai Square</td>\n",
              "      <td>1 Bedroom Apartment In Cape Town City Centre</td>\n",
              "      <td>1.0</td>\n",
              "      <td>1.0</td>\n",
              "      <td>1.0</td>\n",
              "      <td>\\n\\n35 m²\\n</td>\n",
              "      <td>City Bowl</td>\n",
              "      <td>Apartment</td>\n",
              "    </tr>\n",
              "    <tr>\n",
              "      <th>1</th>\n",
              "      <td>1</td>\n",
              "      <td>14995000.0</td>\n",
              "      <td>Waterfront</td>\n",
              "      <td>NaN</td>\n",
              "      <td>2 Bedroom Apartment In Waterfront</td>\n",
              "      <td>2.0</td>\n",
              "      <td>2.0</td>\n",
              "      <td>2.0</td>\n",
              "      <td>\\n\\n131 m²\\n</td>\n",
              "      <td>Atlantic Seaboard</td>\n",
              "      <td>Apartment</td>\n",
              "    </tr>\n",
              "    <tr>\n",
              "      <th>2</th>\n",
              "      <td>1</td>\n",
              "      <td>3995000.0</td>\n",
              "      <td>Vredehoek</td>\n",
              "      <td>NaN</td>\n",
              "      <td>2 Bedroom Apartment In Vredehoek</td>\n",
              "      <td>2.0</td>\n",
              "      <td>2.0</td>\n",
              "      <td>2.0</td>\n",
              "      <td>\\n\\n114 m²\\n</td>\n",
              "      <td>City Bowl</td>\n",
              "      <td>Apartment</td>\n",
              "    </tr>\n",
              "    <tr>\n",
              "      <th>3</th>\n",
              "      <td>1</td>\n",
              "      <td>2750000.0</td>\n",
              "      <td>Oranjezicht</td>\n",
              "      <td>NaN</td>\n",
              "      <td>2 Bedroom Apartment In Oranjezicht</td>\n",
              "      <td>2.0</td>\n",
              "      <td>1.0</td>\n",
              "      <td>2.0</td>\n",
              "      <td>\\n\\n83 m²\\n</td>\n",
              "      <td>City Bowl</td>\n",
              "      <td>Apartment</td>\n",
              "    </tr>\n",
              "    <tr>\n",
              "      <th>4</th>\n",
              "      <td>1</td>\n",
              "      <td>8000000.0</td>\n",
              "      <td>Oranjezicht</td>\n",
              "      <td>42 Breda Street</td>\n",
              "      <td>3 Bedroom House In Oranjezicht</td>\n",
              "      <td>3.0</td>\n",
              "      <td>3.0</td>\n",
              "      <td>1.0</td>\n",
              "      <td>\\n\\n464 m²\\n</td>\n",
              "      <td>City Bowl</td>\n",
              "      <td>House</td>\n",
              "    </tr>\n",
              "  </tbody>\n",
              "</table>\n",
              "</div>"
            ],
            "text/plain": [
              "   page       price  ...               area       type\n",
              "0     1   1995000.0  ...          City Bowl  Apartment\n",
              "1     1  14995000.0  ...  Atlantic Seaboard  Apartment\n",
              "2     1   3995000.0  ...          City Bowl  Apartment\n",
              "3     1   2750000.0  ...          City Bowl  Apartment\n",
              "4     1   8000000.0  ...          City Bowl      House\n",
              "\n",
              "[5 rows x 11 columns]"
            ]
          },
          "metadata": {
            "tags": []
          },
          "execution_count": 14
        }
      ]
    },
    {
      "cell_type": "code",
      "metadata": {
        "id": "2YvqLynzNu7s",
        "colab_type": "code",
        "colab": {}
      },
      "source": [
        "#concatenate dataframes\n",
        "\n",
        "property_df = pd.concat([p24_data, pp_df], axis=0)\n",
        "property_df = property_df.reset_index(drop=True)"
      ],
      "execution_count": 15,
      "outputs": []
    },
    {
      "cell_type": "code",
      "metadata": {
        "id": "kOsVQZ9TNyW5",
        "colab_type": "code",
        "colab": {
          "base_uri": "https://localhost:8080/",
          "height": 284
        },
        "outputId": "b7c87085-6dd7-4ffd-bfe1-1ac68f23e38d"
      },
      "source": [
        "prop_df = property_df.copy()\n",
        "\n",
        "#size column to float \n",
        "size_pat = r\"[^\\d.,-]\"\n",
        "\n",
        "prop_df['size'] = prop_df['size'].astype(str)\n",
        "prop_df['size'] = prop_df['size'].str.replace(size_pat, '', regex=True)\n",
        "prop_df['size'] = pd.to_numeric(prop_df['size'], errors='coerce')\n",
        "prop_df.head(2)"
      ],
      "execution_count": 16,
      "outputs": [
        {
          "output_type": "execute_result",
          "data": {
            "text/html": [
              "<div>\n",
              "<style scoped>\n",
              "    .dataframe tbody tr th:only-of-type {\n",
              "        vertical-align: middle;\n",
              "    }\n",
              "\n",
              "    .dataframe tbody tr th {\n",
              "        vertical-align: top;\n",
              "    }\n",
              "\n",
              "    .dataframe thead th {\n",
              "        text-align: right;\n",
              "    }\n",
              "</style>\n",
              "<table border=\"1\" class=\"dataframe\">\n",
              "  <thead>\n",
              "    <tr style=\"text-align: right;\">\n",
              "      <th></th>\n",
              "      <th>page</th>\n",
              "      <th>price</th>\n",
              "      <th>suburb</th>\n",
              "      <th>address</th>\n",
              "      <th>desc</th>\n",
              "      <th>bedrooms</th>\n",
              "      <th>bathrooms</th>\n",
              "      <th>garages</th>\n",
              "      <th>size</th>\n",
              "      <th>area</th>\n",
              "      <th>type</th>\n",
              "    </tr>\n",
              "  </thead>\n",
              "  <tbody>\n",
              "    <tr>\n",
              "      <th>0</th>\n",
              "      <td>1</td>\n",
              "      <td>1995000.0</td>\n",
              "      <td>Cape Town City Centre</td>\n",
              "      <td>252 Roggebaai Square</td>\n",
              "      <td>1 Bedroom Apartment In Cape Town City Centre</td>\n",
              "      <td>1.0</td>\n",
              "      <td>1.0</td>\n",
              "      <td>1.0</td>\n",
              "      <td>35.0</td>\n",
              "      <td>City Bowl</td>\n",
              "      <td>Apartment</td>\n",
              "    </tr>\n",
              "    <tr>\n",
              "      <th>1</th>\n",
              "      <td>1</td>\n",
              "      <td>14995000.0</td>\n",
              "      <td>Waterfront</td>\n",
              "      <td>NaN</td>\n",
              "      <td>2 Bedroom Apartment In Waterfront</td>\n",
              "      <td>2.0</td>\n",
              "      <td>2.0</td>\n",
              "      <td>2.0</td>\n",
              "      <td>131.0</td>\n",
              "      <td>Atlantic Seaboard</td>\n",
              "      <td>Apartment</td>\n",
              "    </tr>\n",
              "  </tbody>\n",
              "</table>\n",
              "</div>"
            ],
            "text/plain": [
              "   page       price                 suburb  ...   size               area       type\n",
              "0     1   1995000.0  Cape Town City Centre  ...   35.0          City Bowl  Apartment\n",
              "1     1  14995000.0             Waterfront  ...  131.0  Atlantic Seaboard  Apartment\n",
              "\n",
              "[2 rows x 11 columns]"
            ]
          },
          "metadata": {
            "tags": []
          },
          "execution_count": 16
        }
      ]
    },
    {
      "cell_type": "code",
      "metadata": {
        "id": "7C6Eg463N0qV",
        "colab_type": "code",
        "colab": {
          "base_uri": "https://localhost:8080/",
          "height": 51
        },
        "outputId": "1505fcf7-dd10-48fc-8bfe-3c3b346ffedf"
      },
      "source": [
        "print(prop_df['size'].isnull().sum())\n",
        "print(prop_df['size'].count())\n",
        "#too few size values so drop "
      ],
      "execution_count": 17,
      "outputs": [
        {
          "output_type": "stream",
          "text": [
            "16347\n",
            "2303\n"
          ],
          "name": "stdout"
        }
      ]
    },
    {
      "cell_type": "code",
      "metadata": {
        "id": "25Uf8CmVN2f4",
        "colab_type": "code",
        "colab": {}
      },
      "source": [
        "all_features = ['price', 'suburb', 'area', 'bedrooms', 'bathrooms',\n",
        "       'garages', 'type']\n",
        "x_features = ['suburb', 'area', 'bedrooms', 'bathrooms','type']\n",
        "#df_new.garages.isnull().sum()\n",
        "\n",
        "df = prop_df[all_features]"
      ],
      "execution_count": 18,
      "outputs": []
    },
    {
      "cell_type": "code",
      "metadata": {
        "id": "ZAEpRG1fOzF7",
        "colab_type": "code",
        "colab": {
          "base_uri": "https://localhost:8080/",
          "height": 343
        },
        "outputId": "eff0d740-f009-4f5b-a9bf-8fa6cbfc3cc9"
      },
      "source": [
        "!pip install catboost"
      ],
      "execution_count": 20,
      "outputs": [
        {
          "output_type": "stream",
          "text": [
            "Collecting catboost\n",
            "\u001b[?25l  Downloading https://files.pythonhosted.org/packages/90/86/c3dcb600b4f9e7584ed90ea9d30a717fb5c0111574675f442c3e7bc19535/catboost-0.24.1-cp36-none-manylinux1_x86_64.whl (66.1MB)\n",
            "\u001b[K     |████████████████████████████████| 66.1MB 92kB/s \n",
            "\u001b[?25hRequirement already satisfied: graphviz in /usr/local/lib/python3.6/dist-packages (from catboost) (0.10.1)\n",
            "Requirement already satisfied: numpy>=1.16.0 in /usr/local/lib/python3.6/dist-packages (from catboost) (1.18.5)\n",
            "Requirement already satisfied: plotly in /usr/local/lib/python3.6/dist-packages (from catboost) (4.4.1)\n",
            "Requirement already satisfied: scipy in /usr/local/lib/python3.6/dist-packages (from catboost) (1.4.1)\n",
            "Requirement already satisfied: six in /usr/local/lib/python3.6/dist-packages (from catboost) (1.15.0)\n",
            "Requirement already satisfied: matplotlib in /usr/local/lib/python3.6/dist-packages (from catboost) (3.2.2)\n",
            "Requirement already satisfied: pandas>=0.24.0 in /usr/local/lib/python3.6/dist-packages (from catboost) (1.0.5)\n",
            "Requirement already satisfied: retrying>=1.3.3 in /usr/local/lib/python3.6/dist-packages (from plotly->catboost) (1.3.3)\n",
            "Requirement already satisfied: cycler>=0.10 in /usr/local/lib/python3.6/dist-packages (from matplotlib->catboost) (0.10.0)\n",
            "Requirement already satisfied: kiwisolver>=1.0.1 in /usr/local/lib/python3.6/dist-packages (from matplotlib->catboost) (1.2.0)\n",
            "Requirement already satisfied: pyparsing!=2.0.4,!=2.1.2,!=2.1.6,>=2.0.1 in /usr/local/lib/python3.6/dist-packages (from matplotlib->catboost) (2.4.7)\n",
            "Requirement already satisfied: python-dateutil>=2.1 in /usr/local/lib/python3.6/dist-packages (from matplotlib->catboost) (2.8.1)\n",
            "Requirement already satisfied: pytz>=2017.2 in /usr/local/lib/python3.6/dist-packages (from pandas>=0.24.0->catboost) (2018.9)\n",
            "Installing collected packages: catboost\n",
            "Successfully installed catboost-0.24.1\n"
          ],
          "name": "stdout"
        }
      ]
    },
    {
      "cell_type": "code",
      "metadata": {
        "id": "AOhEzls8N5WW",
        "colab_type": "code",
        "colab": {}
      },
      "source": [
        "#Cat Boost Model\n",
        "\n",
        "from sklearn import metrics\n",
        "from sklearn.metrics import mean_squared_error\n",
        "from sklearn import feature_selection\n",
        "from catboost import CatBoostRegressor\n",
        "from sklearn.model_selection import train_test_split\n",
        "from sklearn import preprocessing\n",
        "\n",
        "import numpy as np\n",
        "\n",
        "## Remove rows with more than 68% NA\n",
        "#df_new.type = df_new.type.replace('None', np.nan)\n",
        "df_new = df.dropna(how='all', thresh=2, subset=['suburb', 'area'])\n",
        "\n",
        "X, X_test, y, y_test = train_test_split(df_new[x_features], df_new['price'], test_size=0.2, random_state=216)\n",
        "\n",
        "cat_features = ['suburb', 'area', 'type']\n"
      ],
      "execution_count": 21,
      "outputs": []
    },
    {
      "cell_type": "code",
      "metadata": {
        "id": "dAyLDpuMn7bx",
        "colab_type": "code",
        "colab": {}
      },
      "source": [
        " "
      ],
      "execution_count": 52,
      "outputs": []
    },
    {
      "cell_type": "code",
      "metadata": {
        "id": "nIM4ZzOXpqqv",
        "colab_type": "code",
        "colab": {
          "base_uri": "https://localhost:8080/",
          "height": 1000
        },
        "outputId": "498e524f-9800-4e23-c7cb-5f446dbc95a8"
      },
      "source": [
        "#Train model\n",
        "\n",
        "model = CatBoostRegressor(loss_function = 'MAE', task_type=\"GPU\", iterations = 100000, learning_rate = 100, grow_policy=\"Depthwise\")\n",
        "\n",
        "model.fit(X, y, eval_set=(X_test, y_test), cat_features = cat_features, verbose = 1000,  use_best_model=True)"
      ],
      "execution_count": 52,
      "outputs": [
        {
          "output_type": "stream",
          "text": [
            "learning rate is greater than 1. You probably need to decrease learning rate.\n"
          ],
          "name": "stderr"
        },
        {
          "output_type": "stream",
          "text": [
            "0:\tlearn: 2260329.2248752\ttest: 2234559.4302671\tbest: 2234559.4302671 (0)\ttotal: 15.9ms\tremaining: 26m 25s\n",
            "1000:\tlearn: 2232970.0666397\ttest: 2206650.6652279\tbest: 2206650.6652279 (1000)\ttotal: 12s\tremaining: 19m 42s\n",
            "2000:\tlearn: 2205983.0460003\ttest: 2179090.2314540\tbest: 2179090.2314540 (2000)\ttotal: 24.2s\tremaining: 19m 46s\n",
            "3000:\tlearn: 2179482.2630514\ttest: 2152032.6819531\tbest: 2152032.6819531 (3000)\ttotal: 36.5s\tremaining: 19m 38s\n",
            "4000:\tlearn: 2153633.4806421\ttest: 2125693.8937146\tbest: 2125693.8937146 (4000)\ttotal: 49.3s\tremaining: 19m 42s\n",
            "5000:\tlearn: 2128508.3912046\ttest: 2099951.4950094\tbest: 2099951.4950094 (5000)\ttotal: 1m 1s\tremaining: 19m 28s\n",
            "6000:\tlearn: 2104083.2353973\ttest: 2074945.8127866\tbest: 2074945.8127866 (6000)\ttotal: 1m 13s\tremaining: 19m 13s\n",
            "7000:\tlearn: 2080323.8937003\ttest: 2050557.6520097\tbest: 2050557.6520097 (7000)\ttotal: 1m 26s\tremaining: 19m 4s\n",
            "8000:\tlearn: 2057161.8508026\ttest: 2026733.9757216\tbest: 2026733.9757216 (8000)\ttotal: 1m 38s\tremaining: 18m 51s\n",
            "9000:\tlearn: 2034587.1609335\ttest: 2003390.5325061\tbest: 2003390.5325061 (9000)\ttotal: 1m 50s\tremaining: 18m 38s\n",
            "10000:\tlearn: 2012490.8350196\ttest: 1980530.9134071\tbest: 1980530.9134071 (10000)\ttotal: 2m 3s\tremaining: 18m 30s\n",
            "11000:\tlearn: 1990799.3848644\ttest: 1958208.8459671\tbest: 1958208.8459671 (11000)\ttotal: 2m 15s\tremaining: 18m 18s\n",
            "12000:\tlearn: 1969626.2198840\ttest: 1936400.8502832\tbest: 1936400.8502832 (12000)\ttotal: 2m 27s\tremaining: 18m 1s\n",
            "13000:\tlearn: 1949133.6495346\ttest: 1915367.2770434\tbest: 1915367.2770434 (13000)\ttotal: 2m 39s\tremaining: 17m 47s\n",
            "14000:\tlearn: 1929102.4524484\ttest: 1894842.1127596\tbest: 1894842.1127596 (14000)\ttotal: 2m 51s\tremaining: 17m 33s\n",
            "15000:\tlearn: 1909576.0032376\ttest: 1874931.1551120\tbest: 1874931.1551120 (15000)\ttotal: 3m 3s\tremaining: 17m 20s\n",
            "16000:\tlearn: 1890684.7020100\ttest: 1855751.8036148\tbest: 1855751.8036148 (16000)\ttotal: 3m 15s\tremaining: 17m 4s\n",
            "17000:\tlearn: 1872579.5310940\ttest: 1837457.9206906\tbest: 1837457.9206906 (17000)\ttotal: 3m 27s\tremaining: 16m 53s\n",
            "18000:\tlearn: 1855207.9989208\ttest: 1819866.7774481\tbest: 1819866.7774481 (18000)\ttotal: 3m 39s\tremaining: 16m 40s\n",
            "19000:\tlearn: 1838576.7360043\ttest: 1802933.4858376\tbest: 1802933.4858376 (19000)\ttotal: 3m 52s\tremaining: 16m 30s\n",
            "20000:\tlearn: 1822579.7922568\ttest: 1786614.2627462\tbest: 1786614.2627462 (20000)\ttotal: 4m 4s\tremaining: 16m 18s\n",
            "21000:\tlearn: 1807121.0252260\ttest: 1770798.7526302\tbest: 1770798.7526302 (21000)\ttotal: 4m 17s\tremaining: 16m 6s\n",
            "22000:\tlearn: 1792134.8204506\ttest: 1755496.2093337\tbest: 1755496.2093337 (22000)\ttotal: 4m 29s\tremaining: 15m 54s\n",
            "23000:\tlearn: 1777648.2525293\ttest: 1740640.3366604\tbest: 1740640.3366604 (23000)\ttotal: 4m 41s\tremaining: 15m 41s\n",
            "24000:\tlearn: 1763715.4706597\ttest: 1726354.4731589\tbest: 1726354.4731589 (24000)\ttotal: 4m 53s\tremaining: 15m 28s\n",
            "25000:\tlearn: 1750316.3070282\ttest: 1712631.1605071\tbest: 1712631.1605071 (25000)\ttotal: 5m 5s\tremaining: 15m 17s\n",
            "26000:\tlearn: 1737584.7532713\ttest: 1699633.6530888\tbest: 1699633.6530888 (26000)\ttotal: 5m 17s\tremaining: 15m 3s\n",
            "27000:\tlearn: 1725484.3415621\ttest: 1687350.9015376\tbest: 1687350.9015376 (27000)\ttotal: 5m 29s\tremaining: 14m 50s\n",
            "28000:\tlearn: 1713791.8445973\ttest: 1675519.5165902\tbest: 1675519.5165902 (28000)\ttotal: 5m 41s\tremaining: 14m 39s\n",
            "29000:\tlearn: 1702542.6251180\ttest: 1664103.8640410\tbest: 1664103.8640410 (29000)\ttotal: 5m 54s\tremaining: 14m 29s\n",
            "30000:\tlearn: 1691708.7797113\ttest: 1653093.9994605\tbest: 1653093.9994605 (30000)\ttotal: 6m 7s\tremaining: 14m 16s\n",
            "31000:\tlearn: 1681268.3447997\ttest: 1642495.0331805\tbest: 1642495.0331805 (31000)\ttotal: 6m 18s\tremaining: 14m 3s\n",
            "32000:\tlearn: 1671142.5830298\ttest: 1632238.5972484\tbest: 1632238.5972484 (32000)\ttotal: 6m 31s\tremaining: 13m 50s\n",
            "33000:\tlearn: 1661376.3885067\ttest: 1622350.1052064\tbest: 1622350.1052064 (33000)\ttotal: 6m 43s\tremaining: 13m 38s\n",
            "34000:\tlearn: 1651900.8315122\ttest: 1612746.8249258\tbest: 1612746.8249258 (34000)\ttotal: 6m 55s\tremaining: 13m 26s\n",
            "35000:\tlearn: 1642686.3510050\ttest: 1603431.7949825\tbest: 1603431.7949825 (35000)\ttotal: 7m 7s\tremaining: 13m 13s\n",
            "36000:\tlearn: 1633789.9970322\ttest: 1594405.8440788\tbest: 1594405.8440788 (36000)\ttotal: 7m 19s\tremaining: 13m 1s\n",
            "37000:\tlearn: 1625213.8416296\ttest: 1585748.8038845\tbest: 1585748.8038845 (37000)\ttotal: 7m 31s\tremaining: 12m 48s\n",
            "38000:\tlearn: 1616967.6924322\ttest: 1577470.7569463\tbest: 1577470.7569463 (38000)\ttotal: 7m 43s\tremaining: 12m 36s\n",
            "39000:\tlearn: 1609069.3689464\ttest: 1569644.2147289\tbest: 1569644.2147289 (39000)\ttotal: 7m 56s\tremaining: 12m 24s\n",
            "40000:\tlearn: 1601512.1025226\ttest: 1562135.0655517\tbest: 1562135.0655517 (40000)\ttotal: 8m 8s\tremaining: 12m 12s\n",
            "41000:\tlearn: 1594304.7338459\ttest: 1554943.1712975\tbest: 1554943.1712975 (41000)\ttotal: 8m 20s\tremaining: 12m\n",
            "42000:\tlearn: 1587376.9518414\ttest: 1548036.9031562\tbest: 1548036.9031562 (42000)\ttotal: 8m 32s\tremaining: 11m 48s\n",
            "43000:\tlearn: 1580701.6819102\ttest: 1541441.5365525\tbest: 1541441.5365525 (43000)\ttotal: 8m 45s\tremaining: 11m 36s\n",
            "44000:\tlearn: 1574200.6011062\ttest: 1535071.5770165\tbest: 1535071.5770165 (44000)\ttotal: 8m 57s\tremaining: 11m 23s\n",
            "45000:\tlearn: 1567890.7001214\ttest: 1528905.4782843\tbest: 1528905.4782843 (45000)\ttotal: 9m 9s\tremaining: 11m 11s\n",
            "46000:\tlearn: 1561707.3314448\ttest: 1522862.5799838\tbest: 1522862.5799838 (46000)\ttotal: 9m 21s\tremaining: 10m 59s\n",
            "47000:\tlearn: 1555670.3866181\ttest: 1516976.9970326\tbest: 1516976.9970326 (47000)\ttotal: 9m 34s\tremaining: 10m 47s\n",
            "48000:\tlearn: 1549780.5563200\ttest: 1511268.8945239\tbest: 1511268.8945239 (48000)\ttotal: 9m 46s\tremaining: 10m 35s\n",
            "49000:\tlearn: 1544009.2464589\ttest: 1505686.2023199\tbest: 1505686.2023199 (49000)\ttotal: 9m 58s\tremaining: 10m 23s\n",
            "50000:\tlearn: 1538376.2104411\ttest: 1500261.6541678\tbest: 1500261.6541678 (50000)\ttotal: 10m 10s\tremaining: 10m 10s\n",
            "51000:\tlearn: 1532835.3109402\ttest: 1494948.5664958\tbest: 1494948.5664958 (51000)\ttotal: 10m 23s\tremaining: 9m 58s\n",
            "52000:\tlearn: 1527475.0929448\ttest: 1489770.8335581\tbest: 1489770.8335581 (52000)\ttotal: 10m 35s\tremaining: 9m 46s\n",
            "53000:\tlearn: 1522233.6716579\ttest: 1484705.1135689\tbest: 1484705.1135689 (53000)\ttotal: 10m 47s\tremaining: 9m 34s\n",
            "54000:\tlearn: 1517095.7140159\ttest: 1479765.6325870\tbest: 1479765.6325870 (54000)\ttotal: 10m 59s\tremaining: 9m 21s\n",
            "55000:\tlearn: 1512090.2285175\ttest: 1474961.7825735\tbest: 1474961.7825735 (55000)\ttotal: 11m 10s\tremaining: 9m 8s\n",
            "56000:\tlearn: 1507176.4651288\ttest: 1470233.3444834\tbest: 1470233.3444834 (56000)\ttotal: 11m 22s\tremaining: 8m 56s\n",
            "57000:\tlearn: 1502346.5501147\ttest: 1465581.0089021\tbest: 1465581.0089021 (57000)\ttotal: 11m 34s\tremaining: 8m 43s\n",
            "58000:\tlearn: 1497635.5699447\ttest: 1461030.3274885\tbest: 1461030.3274885 (58000)\ttotal: 11m 46s\tremaining: 8m 31s\n",
            "59000:\tlearn: 1493016.0356131\ttest: 1456591.2446722\tbest: 1456591.2446722 (59000)\ttotal: 11m 58s\tremaining: 8m 19s\n",
            "60000:\tlearn: 1488500.6556050\ttest: 1452221.2203938\tbest: 1452221.2203938 (60000)\ttotal: 12m 10s\tremaining: 8m 6s\n",
            "61000:\tlearn: 1484063.1841360\ttest: 1447926.1936876\tbest: 1447926.1936876 (61000)\ttotal: 12m 21s\tremaining: 7m 54s\n",
            "62000:\tlearn: 1479681.9338999\ttest: 1443688.0712166\tbest: 1443688.0712166 (62000)\ttotal: 12m 33s\tremaining: 7m 41s\n",
            "63000:\tlearn: 1475403.4566302\ttest: 1439525.7750202\tbest: 1439525.7750202 (63000)\ttotal: 12m 44s\tremaining: 7m 29s\n",
            "64000:\tlearn: 1471197.2243356\ttest: 1435406.8475856\tbest: 1435406.8475856 (64000)\ttotal: 12m 56s\tremaining: 7m 16s\n",
            "65000:\tlearn: 1467024.4208822\ttest: 1431311.9525223\tbest: 1431311.9525223 (65000)\ttotal: 13m 8s\tremaining: 7m 4s\n",
            "66000:\tlearn: 1462881.4547417\ttest: 1427253.3822498\tbest: 1427253.3822498 (66000)\ttotal: 13m 19s\tremaining: 6m 52s\n",
            "67000:\tlearn: 1458839.7420747\ttest: 1423270.7763690\tbest: 1423270.7763690 (67000)\ttotal: 13m 32s\tremaining: 6m 39s\n",
            "68000:\tlearn: 1454847.2057197\ttest: 1419339.9643917\tbest: 1419339.9643917 (68000)\ttotal: 13m 43s\tremaining: 6m 27s\n",
            "69000:\tlearn: 1450922.4939970\ttest: 1415469.9239277\tbest: 1415469.9239277 (69000)\ttotal: 13m 55s\tremaining: 6m 15s\n",
            "70000:\tlearn: 1447026.7907730\ttest: 1411625.2970057\tbest: 1411625.2970057 (70000)\ttotal: 14m 6s\tremaining: 6m 2s\n",
            "71000:\tlearn: 1443180.5401322\ttest: 1407853.7340167\tbest: 1407853.7340167 (71000)\ttotal: 14m 18s\tremaining: 5m 50s\n",
            "72000:\tlearn: 1439371.3098611\ttest: 1404122.2249798\tbest: 1404122.2249798 (72000)\ttotal: 14m 30s\tremaining: 5m 38s\n",
            "73000:\tlearn: 1435621.2016727\ttest: 1400467.6471540\tbest: 1400467.6471540 (73000)\ttotal: 14m 41s\tremaining: 5m 26s\n",
            "74000:\tlearn: 1431926.7621746\ttest: 1396871.6309684\tbest: 1396871.6309684 (74000)\ttotal: 14m 53s\tremaining: 5m 13s\n",
            "75000:\tlearn: 1428266.4421961\ttest: 1393320.0884813\tbest: 1393320.0884813 (75000)\ttotal: 15m 5s\tremaining: 5m 1s\n",
            "76000:\tlearn: 1424675.4663429\ttest: 1389888.4316159\tbest: 1389888.4316159 (76000)\ttotal: 15m 16s\tremaining: 4m 49s\n",
            "77000:\tlearn: 1421164.1947929\ttest: 1386553.1804694\tbest: 1386553.1804694 (77000)\ttotal: 15m 27s\tremaining: 4m 37s\n",
            "78000:\tlearn: 1417726.5495751\ttest: 1383286.8497437\tbest: 1383286.8497437 (78000)\ttotal: 15m 39s\tremaining: 4m 24s\n",
            "79000:\tlearn: 1414327.0298125\ttest: 1380069.5505800\tbest: 1380069.5505800 (79000)\ttotal: 15m 51s\tremaining: 4m 12s\n",
            "80000:\tlearn: 1410984.6982328\ttest: 1376930.8400324\tbest: 1376930.8400324 (80000)\ttotal: 16m 3s\tremaining: 4m\n",
            "81000:\tlearn: 1407685.3268582\ttest: 1373845.0283248\tbest: 1373845.0283248 (81000)\ttotal: 16m 14s\tremaining: 3m 48s\n",
            "82000:\tlearn: 1404435.6843383\ttest: 1370827.9989210\tbest: 1370827.9989210 (82000)\ttotal: 16m 26s\tremaining: 3m 36s\n",
            "83000:\tlearn: 1401239.5003372\ttest: 1367925.6066900\tbest: 1367925.6066900 (83000)\ttotal: 16m 38s\tremaining: 3m 24s\n",
            "84000:\tlearn: 1398087.7960340\ttest: 1365086.1958457\tbest: 1365086.1958457 (84000)\ttotal: 16m 49s\tremaining: 3m 12s\n",
            "85000:\tlearn: 1394998.5290706\ttest: 1362301.2031292\tbest: 1362301.2031292 (85000)\ttotal: 17m 1s\tremaining: 3m\n",
            "86000:\tlearn: 1391965.0689330\ttest: 1359589.5505800\tbest: 1359589.5505800 (86000)\ttotal: 17m 13s\tremaining: 2m 48s\n",
            "87000:\tlearn: 1388975.8122218\ttest: 1356930.9349879\tbest: 1356930.9349879 (87000)\ttotal: 17m 25s\tremaining: 2m 36s\n",
            "88000:\tlearn: 1386041.8097936\ttest: 1354311.1302940\tbest: 1354311.1302940 (88000)\ttotal: 17m 37s\tremaining: 2m 24s\n",
            "89000:\tlearn: 1383142.6175637\ttest: 1351712.3193957\tbest: 1351712.3193957 (89000)\ttotal: 17m 49s\tremaining: 2m 12s\n",
            "90000:\tlearn: 1380297.1601241\ttest: 1349142.5130834\tbest: 1349142.5130834 (90000)\ttotal: 18m 1s\tremaining: 2m\n",
            "91000:\tlearn: 1377507.6476460\ttest: 1346602.8162935\tbest: 1346602.8162935 (91000)\ttotal: 18m 12s\tremaining: 1m 48s\n",
            "92000:\tlearn: 1374797.0106570\ttest: 1344107.8694362\tbest: 1344107.8694362 (92000)\ttotal: 18m 24s\tremaining: 1m 36s\n",
            "93000:\tlearn: 1372111.6525024\ttest: 1341635.7118964\tbest: 1341635.7118964 (93000)\ttotal: 18m 37s\tremaining: 1m 24s\n",
            "94000:\tlearn: 1369455.9935249\ttest: 1339188.6916644\tbest: 1339188.6916644 (94000)\ttotal: 18m 48s\tremaining: 1m 12s\n",
            "95000:\tlearn: 1366820.0879536\ttest: 1336750.5109253\tbest: 1336750.5109253 (95000)\ttotal: 19m\tremaining: 1m\n",
            "96000:\tlearn: 1364217.7493592\ttest: 1334324.2082547\tbest: 1334324.2082547 (96000)\ttotal: 19m 12s\tremaining: 48s\n",
            "97000:\tlearn: 1361665.0014839\ttest: 1331924.8384138\tbest: 1331924.8384138 (97000)\ttotal: 19m 24s\tremaining: 36s\n",
            "98000:\tlearn: 1359130.6256576\ttest: 1329546.7386026\tbest: 1329546.7386026 (98000)\ttotal: 19m 37s\tremaining: 24s\n",
            "99000:\tlearn: 1356623.0481586\ttest: 1327177.6164014\tbest: 1327177.6164014 (99000)\ttotal: 19m 48s\tremaining: 12s\n",
            "99999:\tlearn: 1354158.7071361\ttest: 1324856.0064742\tbest: 1324856.0064742 (99999)\ttotal: 20m\tremaining: 0us\n",
            "bestTest = 1324856.006\n",
            "bestIteration = 99999\n"
          ],
          "name": "stdout"
        },
        {
          "output_type": "execute_result",
          "data": {
            "text/plain": [
              "<catboost.core.CatBoostRegressor at 0x7fb63aed1978>"
            ]
          },
          "metadata": {
            "tags": []
          },
          "execution_count": 52
        }
      ]
    },
    {
      "cell_type": "code",
      "metadata": {
        "id": "Tjp7ZzDgp0r9",
        "colab_type": "code",
        "colab": {}
      },
      "source": [
        "#Evaluate Model performance using mean absolute area and median absolute error\n",
        "\n",
        "from sklearn.metrics import mean_absolute_error, median_absolute_error\n",
        "\n",
        "preds = model.predict(X_test)\n",
        "print(\"MAE: \", mean_absolute_error(y_test, preds))\n",
        "print(\"MedianAE: \", median_absolute_error(y_test, preds))\n",
        "show_p = pd.DataFrame({'y_true': y_test, 'y_pred': preds})\n",
        "\n",
        "\n",
        "#add x features\n",
        "show_p[x_features] = X_test[x_features]\n",
        "show_p.head(10)"
      ],
      "execution_count": 51,
      "outputs": []
    },
    {
      "cell_type": "code",
      "metadata": {
        "id": "3rwRcC22ow6b",
        "colab_type": "code",
        "colab": {}
      },
      "source": [
        ""
      ],
      "execution_count": 52,
      "outputs": []
    },
    {
      "cell_type": "code",
      "metadata": {
        "id": "9yn5PwP_3Y7D",
        "colab_type": "code",
        "colab": {}
      },
      "source": [
        "#cross val score for model\n",
        "\n",
        "#from sklearn.model_selection import cross_val_score\n",
        "#from sklearn.model_selection import RepeatedKFold\n",
        "#from catboost import Pool, cv\n",
        "\n",
        "#cv_dataset = Pool(X, y, cat_features = cat_features)\n",
        "#params = {\"iterations\": 3000,\n",
        "#          \"depth\": 2,\n",
        " #         \"loss_function\": \"MAE\",\n",
        " #         \"verbose\": 50}\n"
      ],
      "execution_count": 52,
      "outputs": []
    },
    {
      "cell_type": "code",
      "metadata": {
        "id": "_KQzh4f83wm7",
        "colab_type": "code",
        "colab": {}
      },
      "source": [
        ""
      ],
      "execution_count": 50,
      "outputs": []
    },
    {
      "cell_type": "code",
      "metadata": {
        "id": "PxyQQrNSpV7u",
        "colab_type": "code",
        "colab": {}
      },
      "source": [
        ""
      ],
      "execution_count": 49,
      "outputs": []
    },
    {
      "cell_type": "code",
      "metadata": {
        "id": "7XZs0zRLrrIP",
        "colab_type": "code",
        "colab": {}
      },
      "source": [
        ""
      ],
      "execution_count": 46,
      "outputs": []
    },
    {
      "cell_type": "code",
      "metadata": {
        "id": "S-9txdZiZROr",
        "colab_type": "code",
        "colab": {}
      },
      "source": [
        ""
      ],
      "execution_count": 49,
      "outputs": []
    }
  ]
}